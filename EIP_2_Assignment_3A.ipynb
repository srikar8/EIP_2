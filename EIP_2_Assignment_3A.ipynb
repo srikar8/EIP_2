{
  "nbformat": 4,
  "nbformat_minor": 0,
  "metadata": {
    "colab": {
      "name": "EIP_2_Session_1.ipynb",
      "version": "0.3.2",
      "provenance": [],
      "collapsed_sections": []
    },
    "kernelspec": {
      "name": "python3",
      "display_name": "Python 3"
    }
  },
  "cells": [
    {
      "metadata": {
        "id": "4f19mXevxN3d",
        "colab_type": "code",
        "colab": {}
      },
      "cell_type": "code",
      "source": [
        "#keras\n",
        "!pip install -q keras"
      ],
      "execution_count": 0,
      "outputs": []
    },
    {
      "metadata": {
        "id": "O-t4YIQBxxzX",
        "colab_type": "code",
        "colab": {
          "base_uri": "https://localhost:8080/",
          "height": 34
        },
        "outputId": "ba54832e-4c7f-4fe6-d754-4560a57e236d"
      },
      "cell_type": "code",
      "source": [
        "import keras"
      ],
      "execution_count": 3,
      "outputs": [
        {
          "output_type": "stream",
          "text": [
            "Using TensorFlow backend.\n"
          ],
          "name": "stderr"
        }
      ]
    },
    {
      "metadata": {
        "id": "pvvhndivx1X9",
        "colab_type": "code",
        "colab": {}
      },
      "cell_type": "code",
      "source": [
        "import numpy as np\n",
        "from keras.models import Sequential\n",
        "from keras.layers import Dense,Dropout,Flatten,Activation,Add\n",
        "from keras.layers import Conv2D,MaxPooling2D\n",
        "from keras.utils import np_utils\n",
        "from keras.datasets import mnist"
      ],
      "execution_count": 0,
      "outputs": []
    },
    {
      "metadata": {
        "id": "WJRXLadmIXwf",
        "colab_type": "code",
        "colab": {}
      },
      "cell_type": "code",
      "source": [
        "(X_train,Y_train),(X_test,Y_test)=mnist.load_data()"
      ],
      "execution_count": 0,
      "outputs": []
    },
    {
      "metadata": {
        "id": "J98KTWFkI_pL",
        "colab_type": "code",
        "colab": {
          "base_uri": "https://localhost:8080/",
          "height": 34
        },
        "outputId": "5bfd67ed-be21-43a7-bfff-ba5919a215ed"
      },
      "cell_type": "code",
      "source": [
        "print(X_test.shape)"
      ],
      "execution_count": 6,
      "outputs": [
        {
          "output_type": "stream",
          "text": [
            "(10000, 28, 28)\n"
          ],
          "name": "stdout"
        }
      ]
    },
    {
      "metadata": {
        "id": "kI8NOuPsJFMD",
        "colab_type": "code",
        "colab": {
          "base_uri": "https://localhost:8080/",
          "height": 364
        },
        "outputId": "8598779a-720c-4c56-fcc0-5bab29bf9676"
      },
      "cell_type": "code",
      "source": [
        "from matplotlib import pyplot as plt\n",
        "plt.imshow(X_test[10])"
      ],
      "execution_count": 7,
      "outputs": [
        {
          "output_type": "execute_result",
          "data": {
            "text/plain": [
              "<matplotlib.image.AxesImage at 0x7f6d0df04898>"
            ]
          },
          "metadata": {
            "tags": []
          },
          "execution_count": 7
        },
        {
          "output_type": "display_data",
          "data": {
            "image/png": "[encoded data removed]",
            "text/plain": [
              "<matplotlib.figure.Figure at 0x7f6d0df7e160>"
            ]
          },
          "metadata": {
            "tags": []
          }
        }
      ]
    },
    {
      "metadata": {
        "id": "wRV-gaAlJTNb",
        "colab_type": "code",
        "colab": {}
      },
      "cell_type": "code",
      "source": [
        "X_train=X_train.reshape(X_train.shape[0],28,28,1)\n",
        "X_test=X_test.reshape(X_test.shape[0],28,28,1)"
      ],
      "execution_count": 0,
      "outputs": []
    },
    {
      "metadata": {
        "id": "Ia0p2K0KJ3Sk",
        "colab_type": "code",
        "colab": {}
      },
      "cell_type": "code",
      "source": [
        "X_train=X_train.astype('float32')\n",
        "X_test = X_test.astype('float32')\n",
        "X_train/=255\n",
        "X_test/=255"
      ],
      "execution_count": 0,
      "outputs": []
    },
    {
      "metadata": {
        "id": "mRjtivZ5KXhM",
        "colab_type": "code",
        "colab": {
          "base_uri": "https://localhost:8080/",
          "height": 34
        },
        "outputId": "3811860e-0627-45d0-9611-d3fc1a194dc9"
      },
      "cell_type": "code",
      "source": [
        "Y_train[:5]"
      ],
      "execution_count": 10,
      "outputs": [
        {
          "output_type": "execute_result",
          "data": {
            "text/plain": [
              "array([5, 0, 4, 1, 9], dtype=uint8)"
            ]
          },
          "metadata": {
            "tags": []
          },
          "execution_count": 10
        }
      ]
    },
    {
      "metadata": {
        "id": "FN1HU7bxKjVB",
        "colab_type": "code",
        "colab": {}
      },
      "cell_type": "code",
      "source": [
        "Y_train=np_utils.to_categorical(Y_train, 10)\n",
        "Y_test=np_utils.to_categorical(Y_test,10)"
      ],
      "execution_count": 0,
      "outputs": []
    },
    {
      "metadata": {
        "id": "Omjy0F4PK9oV",
        "colab_type": "code",
        "colab": {
          "base_uri": "https://localhost:8080/",
          "height": 104
        },
        "outputId": "b99a340c-c6ca-47e6-e5c6-d47359b4629c"
      },
      "cell_type": "code",
      "source": [
        "Y_train[:5]"
      ],
      "execution_count": 12,
      "outputs": [
        {
          "output_type": "execute_result",
          "data": {
            "text/plain": [
              "array([[0., 0., 0., 0., 0., 1., 0., 0., 0., 0.],\n",
              "       [1., 0., 0., 0., 0., 0., 0., 0., 0., 0.],\n",
              "       [0., 0., 0., 0., 1., 0., 0., 0., 0., 0.],\n",
              "       [0., 1., 0., 0., 0., 0., 0., 0., 0., 0.],\n",
              "       [0., 0., 0., 0., 0., 0., 0., 0., 0., 1.]], dtype=float32)"
            ]
          },
          "metadata": {
            "tags": []
          },
          "execution_count": 12
        }
      ]
    },
    {
      "metadata": {
        "id": "IMMvh2R-LClY",
        "colab_type": "code",
        "colab": {
          "base_uri": "https://localhost:8080/",
          "height": 156
        },
        "outputId": "bf8c5403-eb98-4d9f-855f-e3615c7a2e17"
      },
      "cell_type": "code",
      "source": [
        "model=Sequential()\n",
        "\n",
        "model.add(Conv2D(32,3,3,activation='relu',input_shape=(28,28,1)))\n",
        "model.add(Conv2D(16,3,3,activation='relu'))\n",
        "model.add(MaxPooling2D(pool_size=(2,2)))\n",
        "model.add(Conv2D(24,3,3,activation='relu'))\n",
        "model.add(Conv2D(16,3,3,activation='relu'))\n",
        "model.add(MaxPooling2D(pool_size=(2,2)))\n",
        "#model.add(Conv2D(10,3,3,activation='relu'))\n",
        "#model.add(MaxPooling2D(pool_size=(2,2)))\n",
        "model.add(Dropout(0.27))\n",
        "model.add(Flatten())\n",
        "model.add(Dropout(0.27))\n",
        "model.add(Dense(10, activation='softmax'))"
      ],
      "execution_count": 64,
      "outputs": [
        {
          "output_type": "stream",
          "text": [
            "/usr/local/lib/python3.6/dist-packages/ipykernel_launcher.py:3: UserWarning: Update your `Conv2D` call to the Keras 2 API: `Conv2D(32, (3, 3), activation=\"relu\", input_shape=(28, 28, 1...)`\n",
            "  This is separate from the ipykernel package so we can avoid doing imports until\n",
            "/usr/local/lib/python3.6/dist-packages/ipykernel_launcher.py:4: UserWarning: Update your `Conv2D` call to the Keras 2 API: `Conv2D(16, (3, 3), activation=\"relu\")`\n",
            "  after removing the cwd from sys.path.\n",
            "/usr/local/lib/python3.6/dist-packages/ipykernel_launcher.py:6: UserWarning: Update your `Conv2D` call to the Keras 2 API: `Conv2D(24, (3, 3), activation=\"relu\")`\n",
            "  \n",
            "/usr/local/lib/python3.6/dist-packages/ipykernel_launcher.py:7: UserWarning: Update your `Conv2D` call to the Keras 2 API: `Conv2D(16, (3, 3), activation=\"relu\")`\n",
            "  import sys\n"
          ],
          "name": "stderr"
        }
      ]
    },
    {
      "metadata": {
        "id": "aIOQu0cFL6zz",
        "colab_type": "code",
        "colab": {
          "base_uri": "https://localhost:8080/",
          "height": 486
        },
        "outputId": "c6815f65-0c60-4183-eac4-70e8900892f2"
      },
      "cell_type": "code",
      "source": [
        "model.summary()"
      ],
      "execution_count": 65,
      "outputs": [
        {
          "output_type": "stream",
          "text": [
            "_________________________________________________________________\n",
            "Layer (type)                 Output Shape              Param #   \n",
            "=================================================================\n",
            "conv2d_78 (Conv2D)           (None, 26, 26, 32)        320       \n",
            "_________________________________________________________________\n",
            "conv2d_79 (Conv2D)           (None, 24, 24, 16)        4624      \n",
            "_________________________________________________________________\n",
            "max_pooling2d_34 (MaxPooling (None, 12, 12, 16)        0         \n",
            "_________________________________________________________________\n",
            "conv2d_80 (Conv2D)           (None, 10, 10, 24)        3480      \n",
            "_________________________________________________________________\n",
            "conv2d_81 (Conv2D)           (None, 8, 8, 16)          3472      \n",
            "_________________________________________________________________\n",
            "max_pooling2d_35 (MaxPooling (None, 4, 4, 16)          0         \n",
            "_________________________________________________________________\n",
            "dropout_39 (Dropout)         (None, 4, 4, 16)          0         \n",
            "_________________________________________________________________\n",
            "flatten_20 (Flatten)         (None, 256)               0         \n",
            "_________________________________________________________________\n",
            "dropout_40 (Dropout)         (None, 256)               0         \n",
            "_________________________________________________________________\n",
            "dense_20 (Dense)             (None, 10)                2570      \n",
            "=================================================================\n",
            "Total params: 14,466\n",
            "Trainable params: 14,466\n",
            "Non-trainable params: 0\n",
            "_________________________________________________________________\n"
          ],
          "name": "stdout"
        }
      ]
    },
    {
      "metadata": {
        "id": "XqTPvkvIMO3c",
        "colab_type": "code",
        "colab": {}
      },
      "cell_type": "code",
      "source": [
        "model.compile(loss='categorical_crossentropy',\n",
        "             optimizer='adam',\n",
        "             metrics=['accuracy'])"
      ],
      "execution_count": 0,
      "outputs": []
    },
    {
      "metadata": {
        "id": "yY_6pwImM4gw",
        "colab_type": "code",
        "colab": {
          "base_uri": "https://localhost:8080/",
          "height": 764
        },
        "outputId": "119750dc-6ac1-4de8-bd84-f82a4161d52e"
      },
      "cell_type": "code",
      "source": [
        "hist = model.fit(X_train,Y_train,batch_size=32,nb_epoch=20,verbose=1,validation_data=(X_test, Y_test))"
      ],
      "execution_count": 67,
      "outputs": [
        {
          "output_type": "stream",
          "text": [
            "/usr/local/lib/python3.6/dist-packages/keras/models.py:981: UserWarning: The `nb_epoch` argument in `fit` has been renamed `epochs`.\n",
            "  warnings.warn('The `nb_epoch` argument in `fit` '\n"
          ],
          "name": "stderr"
        },
        {
          "output_type": "stream",
          "text": [
            "Train on 60000 samples, validate on 10000 samples\n",
            "Epoch 1/20\n",
            "60000/60000 [==============================] - 112s 2ms/step - loss: 0.3163 - acc: 0.8977 - val_loss: 0.0628 - val_acc: 0.9792\n",
            "Epoch 2/20\n",
            "60000/60000 [==============================] - 112s 2ms/step - loss: 0.1133 - acc: 0.9651 - val_loss: 0.0419 - val_acc: 0.9856\n",
            "Epoch 3/20\n",
            "60000/60000 [==============================] - 111s 2ms/step - loss: 0.0878 - acc: 0.9728 - val_loss: 0.0361 - val_acc: 0.9878\n",
            "Epoch 4/20\n",
            "60000/60000 [==============================] - 112s 2ms/step - loss: 0.0747 - acc: 0.9766 - val_loss: 0.0331 - val_acc: 0.9894\n",
            "Epoch 5/20\n",
            "60000/60000 [==============================] - 112s 2ms/step - loss: 0.0664 - acc: 0.9800 - val_loss: 0.0257 - val_acc: 0.9913\n",
            "Epoch 6/20\n",
            "60000/60000 [==============================] - 112s 2ms/step - loss: 0.0610 - acc: 0.9815 - val_loss: 0.0298 - val_acc: 0.9902\n",
            "Epoch 7/20\n",
            "60000/60000 [==============================] - 112s 2ms/step - loss: 0.0573 - acc: 0.9828 - val_loss: 0.0292 - val_acc: 0.9915\n",
            "Epoch 8/20\n",
            "60000/60000 [==============================] - 112s 2ms/step - loss: 0.0532 - acc: 0.9842 - val_loss: 0.0258 - val_acc: 0.9914\n",
            "Epoch 9/20\n",
            "60000/60000 [==============================] - 112s 2ms/step - loss: 0.0505 - acc: 0.9845 - val_loss: 0.0287 - val_acc: 0.9913\n",
            "Epoch 10/20\n",
            "60000/60000 [==============================] - 113s 2ms/step - loss: 0.0475 - acc: 0.9856 - val_loss: 0.0220 - val_acc: 0.9932\n",
            "Epoch 11/20\n",
            "60000/60000 [==============================] - 112s 2ms/step - loss: 0.0446 - acc: 0.9858 - val_loss: 0.0212 - val_acc: 0.9936\n",
            "Epoch 12/20\n",
            "60000/60000 [==============================] - 112s 2ms/step - loss: 0.0434 - acc: 0.9863 - val_loss: 0.0206 - val_acc: 0.9932\n",
            "Epoch 13/20\n",
            "60000/60000 [==============================] - 114s 2ms/step - loss: 0.0409 - acc: 0.9874 - val_loss: 0.0238 - val_acc: 0.9936\n",
            "Epoch 14/20\n",
            "60000/60000 [==============================] - 118s 2ms/step - loss: 0.0400 - acc: 0.9869 - val_loss: 0.0230 - val_acc: 0.9930\n",
            "Epoch 15/20\n",
            "60000/60000 [==============================] - 117s 2ms/step - loss: 0.0390 - acc: 0.9881 - val_loss: 0.0209 - val_acc: 0.9935\n",
            "Epoch 16/20\n",
            "60000/60000 [==============================] - 116s 2ms/step - loss: 0.0363 - acc: 0.9883 - val_loss: 0.0201 - val_acc: 0.9939\n",
            "Epoch 17/20\n",
            "60000/60000 [==============================] - 117s 2ms/step - loss: 0.0366 - acc: 0.9886 - val_loss: 0.0219 - val_acc: 0.9933\n",
            "Epoch 18/20\n",
            "60000/60000 [==============================] - 117s 2ms/step - loss: 0.0346 - acc: 0.9890 - val_loss: 0.0196 - val_acc: 0.9944\n",
            "Epoch 19/20\n",
            "60000/60000 [==============================] - 115s 2ms/step - loss: 0.0348 - acc: 0.9889 - val_loss: 0.0210 - val_acc: 0.9934\n",
            "Epoch 20/20\n",
            "60000/60000 [==============================] - 117s 2ms/step - loss: 0.0336 - acc: 0.9896 - val_loss: 0.0183 - val_acc: 0.9944\n"
          ],
          "name": "stdout"
        }
      ]
    },
    {
      "metadata": {
        "id": "3o6Jq-lINa0K",
        "colab_type": "code",
        "colab": {}
      },
      "cell_type": "code",
      "source": [
        "score=model.evaluate(X_test,Y_test,verbose=0)"
      ],
      "execution_count": 0,
      "outputs": []
    },
    {
      "metadata": {
        "id": "_Ce_oSkWTVnR",
        "colab_type": "code",
        "colab": {
          "base_uri": "https://localhost:8080/",
          "height": 34
        },
        "outputId": "e3f5d4c5-e854-485d-cb13-ef8340f5de61"
      },
      "cell_type": "code",
      "source": [
        "print(score)"
      ],
      "execution_count": 69,
      "outputs": [
        {
          "output_type": "stream",
          "text": [
            "[0.01828788585179718, 0.9944]\n"
          ],
          "name": "stdout"
        }
      ]
    },
    {
      "metadata": {
        "id": "1pc3o-5sTX8O",
        "colab_type": "code",
        "colab": {
          "base_uri": "https://localhost:8080/",
          "height": 735
        },
        "outputId": "beadf6f4-c57b-4d8d-e7e2-ef4c6eae8206"
      },
      "cell_type": "code",
      "source": [
        "plt.plot(hist.history['acc'])\n",
        "plt.plot(hist.history['val_acc'])\n",
        "plt.title('model accuracy')\n",
        "plt.ylabel('accuracy')\n",
        "plt.xlabel('epoch')\n",
        "plt.legend(['Training','Validation'],loc='lower right')\n",
        "plt.show()\n",
        "\n",
        "plt.plot(hist.history['loss'])\n",
        "plt.plot(hist.history['val_loss'])\n",
        "plt.title('model loss')\n",
        "plt.ylabel('loss')\n",
        "plt.xlabel('epoch')\n",
        "plt.legend(['Training','Validation'], loc='upper right')\n",
        "plt.show()"
      ],
      "execution_count": 70,
      "outputs": [
        {
          "output_type": "display_data",
          "data": {
            "image/png": "[encoded data removed]",
            "text/plain": [
              "<matplotlib.figure.Figure at 0x7f6d04bbfe10>"
            ]
          },
          "metadata": {
            "tags": []
          }
        },
        {
          "output_type": "display_data",
          "data": {
            "image/png": "[encoded data removed]",
            "text/plain": [
              "<matplotlib.figure.Figure at 0x7f6d04a9e9e8>"
            ]
          },
          "metadata": {
            "tags": []
          }
        }
      ]
    },
    {
      "metadata": {
        "id": "3YObwNloNg0X",
        "colab_type": "code",
        "colab": {}
      },
      "cell_type": "code",
      "source": [
        "model.save_weights(\"mnist_99.44_14465_param.h5\")"
      ],
      "execution_count": 0,
      "outputs": []
    },
    {
      "metadata": {
        "id": "ZPKL3x8PUHAS",
        "colab_type": "code",
        "colab": {}
      },
      "cell_type": "code",
      "source": [
        ""
      ],
      "execution_count": 0,
      "outputs": []
    }
  ]
}